{
 "cells": [
  {
   "cell_type": "code",
   "execution_count": 1,
   "metadata": {},
   "outputs": [],
   "source": [
    "import matplotlib.pyplot as plt\n",
    "from math import *"
   ]
  },
  {
   "cell_type": "markdown",
   "metadata": {},
   "source": [
    "## Q1"
   ]
  },
  {
   "cell_type": "code",
   "execution_count": 2,
   "metadata": {},
   "outputs": [],
   "source": [
    "# Parâmetros\n",
    "t_sup = 100 + 273   # Temperatura superfície (K)\n",
    "t_amb = 25 + 273    # Temperatura ambiente (K)\n",
    "r = 12e-3           # Raio aleta (m)\n",
    "L = 168e-3          # Comprimento aleta (m)\n",
    "h = 10              # Coeficiente de transferência de calor (W/m2/K)\n",
    "k = 204             # Condutividade térmica do Alumínio-2014 (W/mK)"
   ]
  },
  {
   "cell_type": "code",
   "execution_count": 3,
   "metadata": {},
   "outputs": [],
   "source": [
    "# Support functions\n",
    "\n",
    "def get_P(R):\n",
    "    return pi*R*2\n",
    "\n",
    "def get_A(R):\n",
    "    return pi*R**2\n",
    "\n",
    "def get_m(h, P, k, A):\n",
    "    return sqrt(h*P/k/A)\n",
    "\n",
    "def get_M(theta_b, h, P, k, A):\n",
    "    return theta_b*sqrt(h*P*k*A)\n",
    "\n",
    "def heat_transf_rate_A(m,L,M,h):\n",
    "    \n",
    "    numerador = sinh(m*L) + (h/m/k)*cosh(m*L)\n",
    "    denominador = cosh(m*L) + (h/m/k)*sinh(m*L)\n",
    "    \n",
    "    return M*numerador/denominador\n",
    "\n",
    "def get_temp_distrib(m, L, x):\n",
    "    \n",
    "    numerador = cosh(m*(L-x)) + (h/(m*k))*sinh(m*(L-x))\n",
    "    denominador = cosh(m*L) + (h/(m*k))*sinh(m*L)\n",
    "    \n",
    "    return numerador/denominador\n",
    "\n",
    "def get_T_L(t_amb, t_sup, temp_distrib):\n",
    "    return temp_distrib*(t_sup - t_amb) + t_amb\n",
    "    \n",
    "def get_effectiviness(q_a, h, Ab, theta_b):\n",
    "    return q_a / (h*Ab*theta_b)\n",
    "\n",
    "def get_efficience(q_a, h, As, theta_b):\n",
    "    return q_a / (h*As*theta_b)"
   ]
  },
  {
   "cell_type": "code",
   "execution_count": 4,
   "metadata": {},
   "outputs": [
    {
     "name": "stdout",
     "output_type": "stream",
     "text": [
      "Taxa de transferencia de calor: 9.1 W\n"
     ]
    }
   ],
   "source": [
    "P = get_P(r)              # Perímetro\n",
    "A = get_A(r)              # Área\n",
    "theta_b = t_sup - t_amb   # Dif temp.\n",
    "\n",
    "m_q1 = get_m(h, P, k, A)\n",
    "M_q1 = get_M(theta_b, h, P, k, A)\n",
    "q_q1 = heat_transf_rate_A(m_q1, L, M_q1, h)\n",
    "\n",
    "print(f\"Taxa de transferencia de calor: {round(q_q1, 2)} W\")"
   ]
  },
  {
   "cell_type": "code",
   "execution_count": 5,
   "metadata": {},
   "outputs": [
    {
     "name": "stdout",
     "output_type": "stream",
     "text": [
      "Temperatura na extremidade da aleta: 364.6 K\n",
      "Temperatura na extremidade da aleta: 91.60000000000002 C\n"
     ]
    }
   ],
   "source": [
    "temp_distrib = get_temp_distrib(m_q1, L, L)\n",
    "\n",
    "T_L = get_T_L(t_amb, t_sup, temp_distrib)\n",
    "\n",
    "print(f\"Temperatura na extremidade da aleta: {round(T_L, 2)} K\")\n",
    "print(f\"Temperatura na extremidade da aleta: {round(T_L, 2) - 273} C\")"
   ]
  },
  {
   "cell_type": "code",
   "execution_count": 6,
   "metadata": {},
   "outputs": [
    {
     "name": "stdout",
     "output_type": "stream",
     "text": [
      "Efetividade: 26.82\n",
      "Eficiencia: 26.82\n"
     ]
    }
   ],
   "source": [
    "e_a = get_effectiviness(q_q1, h, A, theta_b)\n",
    "n_a = get_efficience(q_q1, h, A, theta_b)\n",
    "\n",
    "print(f\"Efetividade: {round(e_a, 2)}\")\n",
    "print(f\"Eficiencia: {round(n_a, 2)}\")"
   ]
  },
  {
   "cell_type": "code",
   "execution_count": 7,
   "metadata": {},
   "outputs": [
    {
     "name": "stdout",
     "output_type": "stream",
     "text": [
      "Taxa de transferencia de calor para aleta infinita: 19.78 W\n"
     ]
    }
   ],
   "source": [
    "print(f\"Taxa de transferencia de calor para aleta infinita: {round(M_q1,2)} W\")\n"
   ]
  },
  {
   "cell_type": "markdown",
   "metadata": {},
   "source": [
    "## Q2"
   ]
  },
  {
   "cell_type": "markdown",
   "metadata": {},
   "source": [
    "a)"
   ]
  },
  {
   "cell_type": "code",
   "execution_count": 8,
   "metadata": {},
   "outputs": [],
   "source": [
    "# Parâmetros\n",
    "t_sup = 100 + 273   # Temperatura superfície (K)\n",
    "t_amb = 25 + 273    # Temperatura ambiente (K)\n",
    "r = 12e-3           # Raio aleta (m)\n",
    "L = 168e-3          # Comprimento aleta (m)\n",
    "h = 10              # Coeficiente de transferência de calor (W/m2/K)\n",
    "k = 204             # Condutividade térmica do Alumínio-2014 (W/mK)"
   ]
  },
  {
   "cell_type": "code",
   "execution_count": 9,
   "metadata": {},
   "outputs": [
    {
     "data": {
      "text/plain": [
       "9.101184741612194"
      ]
     },
     "execution_count": 9,
     "metadata": {},
     "output_type": "execute_result"
    }
   ],
   "source": [
    "P = get_P(r)              # Perímetro\n",
    "A = get_A(r)              # Área\n",
    "theta_b = t_sup - t_amb   # Dif temp.\n",
    "\n",
    "m_q2 = get_m(h, P, k, A)\n",
    "M_q2 = get_M(theta_b, h, P, k, A)\n",
    "q_q2 = heat_transf_rate_A(m_q2, L, M_q1, h)\n",
    "q_q2"
   ]
  },
  {
   "cell_type": "code",
   "execution_count": 10,
   "metadata": {},
   "outputs": [],
   "source": [
    "# Parâmetros com o diametro triplicado\n",
    "r_linha = 12e-3 * 6       # Raio aleta (m) com o diametro triplicado"
   ]
  },
  {
   "cell_type": "code",
   "execution_count": 11,
   "metadata": {},
   "outputs": [
    {
     "data": {
      "text/plain": [
       "4.622999159249995"
      ]
     },
     "execution_count": 11,
     "metadata": {},
     "output_type": "execute_result"
    }
   ],
   "source": [
    "P_linha = get_P(r_linha)              # Perímetro\n",
    "A_linha = get_A(r_linha)              # Área\n",
    "theta_b = t_sup - t_amb   # Dif temp.\n",
    "\n",
    "m_q2_linha = get_m(h, P_linha, k, A_linha)\n",
    "M_q2_linha = get_M(theta_b, h, P_linha, k, A_linha)\n",
    "q_q2_linha = heat_transf_rate_A(m_q2_linha, L, M_q1, h)\n",
    "q_q2_linha"
   ]
  },
  {
   "cell_type": "code",
   "execution_count": 12,
   "metadata": {},
   "outputs": [
    {
     "name": "stdout",
     "output_type": "stream",
     "text": [
      "Taxa de remoção de calor com diâmetro normal: 9.101184741612194\n",
      "Taxa de remoção de calor com diâmetro triplicado: 4.622999159249995\n"
     ]
    }
   ],
   "source": [
    "print(f\"Taxa de remoção de calor com diâmetro normal: {q_q2}\")\n",
    "print(f\"Taxa de remoção de calor com diâmetro triplicado: {q_q2_linha}\")"
   ]
  },
  {
   "cell_type": "markdown",
   "metadata": {},
   "source": [
    "b)"
   ]
  },
  {
   "cell_type": "code",
   "execution_count": 13,
   "metadata": {},
   "outputs": [],
   "source": [
    "# Parâmetros\n",
    "t_sup = 100 + 273   # Temperatura superfície (K)\n",
    "t_amb = 25 + 273    # Temperatura ambiente (K)\n",
    "r = 12e-3           # Raio aleta (m)\n",
    "L = 168e-3          # Comprimento aleta (m)\n",
    "h = 10              # Coeficiente de transferência de calor (W/m2/K)\n",
    "k_aluminio = 240            # Condutividade térmica do Alumínio-2014 (W/mK)"
   ]
  },
  {
   "cell_type": "code",
   "execution_count": 14,
   "metadata": {},
   "outputs": [
    {
     "data": {
      "text/plain": [
       "9.252171922773469"
      ]
     },
     "execution_count": 14,
     "metadata": {},
     "output_type": "execute_result"
    }
   ],
   "source": [
    "P = get_P(r)              # Perímetro\n",
    "A = get_A(r)              # Área\n",
    "theta_b = t_sup - t_amb   # Dif temp.\n",
    "\n",
    "m_q2_aluminio = get_m(h, P, k_aluminio, A)\n",
    "M_q2_aluminio = get_M(theta_b, h, P, k_aluminio, A)\n",
    "q_q2_aluminio = heat_transf_rate_A(m_q2_aluminio, L, M_q2_aluminio, h)\n",
    "q_q2_aluminio"
   ]
  },
  {
   "cell_type": "code",
   "execution_count": 15,
   "metadata": {},
   "outputs": [],
   "source": [
    "# Parâmetros\n",
    "t_sup = 100 + 273   # Temperatura superfície (K)\n",
    "t_amb = 25 + 273    # Temperatura ambiente (K)\n",
    "r = 12e-3           # Raio aleta (m)\n",
    "L = 168e-3          # Comprimento aleta (m)\n",
    "h = 10              # Coeficiente de transferência de calor (W/m2/K)\n",
    "k_cobre = 400             # Condutividade térmica do Alumínio-2014 (W/mK)"
   ]
  },
  {
   "cell_type": "code",
   "execution_count": 16,
   "metadata": {},
   "outputs": [
    {
     "data": {
      "text/plain": [
       "9.732619667416115"
      ]
     },
     "execution_count": 16,
     "metadata": {},
     "output_type": "execute_result"
    }
   ],
   "source": [
    "P = get_P(r)              # Perímetro\n",
    "A = get_A(r)              # Área\n",
    "theta_b = t_sup - t_amb   # Dif temp.\n",
    "\n",
    "m_q2_cobre = get_m(h, P, k_cobre, A)\n",
    "M_q2_cobre = get_M(theta_b, h, P, k_cobre, A)\n",
    "q_q2_cobre = heat_transf_rate_A(m_q2_cobre, L, M_q2_cobre, h)\n",
    "q_q2_cobre"
   ]
  },
  {
   "cell_type": "code",
   "execution_count": 17,
   "metadata": {},
   "outputs": [
    {
     "name": "stdout",
     "output_type": "stream",
     "text": [
      "Taxa de remoção de calor do bastão de cobre: 9.252171922773469\n",
      "Taxa de remoção de calor do bastão de alumínio: 9.732619667416115\n"
     ]
    }
   ],
   "source": [
    "print(f\"Taxa de remoção de calor do bastão de cobre: {q_q2_aluminio}\")\n",
    "print(f\"Taxa de remoção de calor do bastão de alumínio: {q_q2_cobre}\")"
   ]
  }
 ],
 "metadata": {
  "kernelspec": {
   "display_name": "Python 3",
   "language": "python",
   "name": "python3"
  },
  "language_info": {
   "codemirror_mode": {
    "name": "ipython",
    "version": 3
   },
   "file_extension": ".py",
   "mimetype": "text/x-python",
   "name": "python",
   "nbconvert_exporter": "python",
   "pygments_lexer": "ipython3",
   "version": "3.8.3"
  }
 },
 "nbformat": 4,
 "nbformat_minor": 5
}
