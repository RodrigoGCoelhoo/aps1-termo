{
 "cells": [
  {
   "cell_type": "code",
   "execution_count": 28,
   "id": "71244535",
   "metadata": {},
   "outputs": [],
   "source": [
    "import matplotlib.pyplot as plt\n",
    "from math import *"
   ]
  },
  {
   "cell_type": "markdown",
   "id": "9741a245",
   "metadata": {},
   "source": [
    "## Q1"
   ]
  },
  {
   "cell_type": "code",
   "execution_count": 29,
   "id": "22e4f994",
   "metadata": {},
   "outputs": [],
   "source": [
    "# Parâmetros\n",
    "t_sup = 100 + 273   # Temperatura superfície (K)\n",
    "t_amb = 25 + 273    # Temperatura ambiente (K)\n",
    "r = 12e-3           # Raio aleta (m)\n",
    "L = 168e-3          # Comprimento aleta (m)\n",
    "h = 10              # Coeficiente de transferência de calor (W/m2/K)\n",
    "k = 204             # Condutividade térmica do Alumínio-2014 (W/mK)"
   ]
  },
  {
   "cell_type": "code",
   "execution_count": 30,
   "id": "d06d12a0",
   "metadata": {},
   "outputs": [],
   "source": [
    "# Support functions\n",
    "\n",
    "def get_P(R):\n",
    "    return pi*R*2\n",
    "\n",
    "def get_A(R):\n",
    "    return pi*R**2\n",
    "\n",
    "def get_m(h, P, k, A):\n",
    "    return sqrt(h*P/k/A)\n",
    "\n",
    "def get_M(theta_b, h, P, k, A):\n",
    "    return theta_b*sqrt(h*P*k*A)\n",
    "\n",
    "def heat_transf_rate_A(m,L,M,h):\n",
    "    \n",
    "    numerador = sinh(m*L) + (h/m/k)*cosh(m*L)\n",
    "    denominador = cosh(m*L) + (h/m/k)*sinh(m*L)\n",
    "    \n",
    "    return M*numerador/denominador\n",
    "\n",
    "def get_temp_distrib(m, L, x):\n",
    "    \n",
    "    numerador = cosh(m*(L-x)) + (h/(m*k))*sinh(m*(L-x))\n",
    "    denominador = cosh(m*L) + (h/(m*k))*sinh(m*L)\n",
    "    \n",
    "    return numerador/denominador\n",
    "\n",
    "def get_T_L(t_amb, t_sup, temp_distrib):\n",
    "    return temp_distrib*(t_sup - t_amb) + t_amb\n",
    "    \n",
    "def get_effectiviness(q_a, h, Ab, theta_b):\n",
    "    return q_a / (h*Ab*theta_b)\n",
    "\n",
    "def get_efficience(q_a, h, As, theta_b):\n",
    "    return q_a / (h*As*theta_b)"
   ]
  },
  {
   "cell_type": "code",
   "execution_count": 31,
   "id": "56498b3d",
   "metadata": {},
   "outputs": [
    {
     "name": "stdout",
     "output_type": "stream",
     "text": [
      "Taxa de transferencia de calor: 9.1 W\n"
     ]
    }
   ],
   "source": [
    "P = get_P(r)              # Perímetro\n",
    "A = get_A(r)              # Área\n",
    "theta_b = t_sup - t_amb   # Dif temp.\n",
    "\n",
    "m_q1 = get_m(h, P, k, A)\n",
    "M_q1 = get_M(theta_b, h, P, k, A)\n",
    "q_q1 = heat_transf_rate_A(m_q1, L, M_q1, h)\n",
    "\n",
    "print(f\"Taxa de transferencia de calor: {round(q_q1, 2)} W\")"
   ]
  },
  {
   "cell_type": "code",
   "execution_count": 32,
   "id": "5754e1d0",
   "metadata": {},
   "outputs": [
    {
     "name": "stdout",
     "output_type": "stream",
     "text": [
      "Temperatura na extremidade da aleta: 364.6 K\n",
      "Temperatura na extremidade da aleta: 91.60000000000002 C\n"
     ]
    }
   ],
   "source": [
    "temp_distrib = get_temp_distrib(m_q1, L, L)\n",
    "\n",
    "T_L = get_T_L(t_amb, t_sup, temp_distrib)\n",
    "\n",
    "print(f\"Temperatura na extremidade da aleta: {round(T_L, 2)} K\")\n",
    "print(f\"Temperatura na extremidade da aleta: {round(T_L, 2) - 273} C\")"
   ]
  },
  {
   "cell_type": "code",
   "execution_count": 33,
   "id": "63175639",
   "metadata": {},
   "outputs": [
    {
     "name": "stdout",
     "output_type": "stream",
     "text": [
      "Efetividade: 26.82\n",
      "Eficiencia: 26.82\n"
     ]
    }
   ],
   "source": [
    "e_a = get_effectiviness(q_q1, h, A, theta_b)\n",
    "n_a = get_efficience(q_q1, h, A, theta_b)\n",
    "\n",
    "print(f\"Efetividade: {round(e_a, 2)}\")\n",
    "print(f\"Eficiencia: {round(n_a, 2)}\")"
   ]
  },
  {
   "cell_type": "code",
   "execution_count": 34,
   "id": "d9d6b951",
   "metadata": {},
   "outputs": [
    {
     "name": "stdout",
     "output_type": "stream",
     "text": [
      "Taxa de transferencia de calor para aleta infinita: 19.78 W\n"
     ]
    }
   ],
   "source": [
    "print(f\"Taxa de transferencia de calor para aleta infinita: {round(M_q1,2)} W\")\n"
   ]
  },
  {
   "cell_type": "markdown",
   "id": "b4807ea8",
   "metadata": {},
   "source": [
    "## Q2"
   ]
  },
  {
   "cell_type": "markdown",
   "id": "230ab022",
   "metadata": {},
   "source": [
    "a)"
   ]
  },
  {
   "cell_type": "code",
   "execution_count": 35,
   "id": "185de229",
   "metadata": {},
   "outputs": [],
   "source": [
    "# Parâmetros\n",
    "t_sup = 100 + 273   # Temperatura superfície (K)\n",
    "t_amb = 25 + 273    # Temperatura ambiente (K)\n",
    "r = 12e-3           # Raio aleta (m)\n",
    "L = 168e-3          # Comprimento aleta (m)\n",
    "h = 10              # Coeficiente de transferência de calor (W/m2/K)\n",
    "k = 204             # Condutividade térmica do Alumínio-2014 (W/mK)"
   ]
  },
  {
   "cell_type": "code",
   "execution_count": 36,
   "id": "85089600",
   "metadata": {},
   "outputs": [
    {
     "data": {
      "text/plain": [
       "9.101184741612194"
      ]
     },
     "execution_count": 36,
     "metadata": {},
     "output_type": "execute_result"
    }
   ],
   "source": [
    "P = get_P(r)              # Perímetro\n",
    "A = get_A(r)              # Área\n",
    "theta_b = t_sup - t_amb   # Dif temp.\n",
    "\n",
    "m_q2 = get_m(h, P, k, A)\n",
    "M_q2 = get_M(theta_b, h, P, k, A)\n",
    "q_q2 = heat_transf_rate_A(m_q1, L, M_q1, h)\n",
    "q_q2"
   ]
  },
  {
   "cell_type": "code",
   "execution_count": 40,
   "id": "9a0f8bb5",
   "metadata": {},
   "outputs": [
    {
     "data": {
      "text/plain": [
       "9.101184741612194"
      ]
     },
     "execution_count": 40,
     "metadata": {},
     "output_type": "execute_result"
    }
   ],
   "source": [
    "r3x = 36e-3\n",
    "\n",
    "P = get_P(r3x)              # Perímetro\n",
    "A = get_A(r3x)              # Área\n",
    "theta_b = t_sup - t_amb     # Dif temp.\n",
    "\n",
    "m_q2_3x = get_m(h, P, k, A)\n",
    "M_q2_3x = get_M(theta_b, h, P, k, A)\n",
    "q_q2_3x = heat_transf_rate_A(m_q1, L, M_q1, h)\n",
    "q_q2_3x"
   ]
  },
  {
   "cell_type": "markdown",
   "id": "c1c37e95",
   "metadata": {},
   "source": [
    "b)"
   ]
  },
  {
   "cell_type": "code",
   "execution_count": 45,
   "id": "1a11706d",
   "metadata": {},
   "outputs": [],
   "source": [
    "# Parâmetros\n",
    "t_sup = 100 + 273   # Temperatura superfície (K)\n",
    "t_amb = 25 + 273    # Temperatura ambiente (K)\n",
    "r = 12e-3           # Raio aleta (m)\n",
    "L = 168e-3          # Comprimento aleta (m)\n",
    "h = 10              # Coeficiente de transferência de calor (W/m2/K)\n",
    "k = 240             # Condutividade térmica do Alumínio-2014 (W/mK)"
   ]
  },
  {
   "cell_type": "code",
   "execution_count": 46,
   "id": "6129872c",
   "metadata": {},
   "outputs": [
    {
     "data": {
      "text/plain": [
       "9.061003812704062"
      ]
     },
     "execution_count": 46,
     "metadata": {},
     "output_type": "execute_result"
    }
   ],
   "source": [
    "P = get_P(r)              # Perímetro\n",
    "A = get_A(r)              # Área\n",
    "theta_b = t_sup - t_amb   # Dif temp.\n",
    "\n",
    "m_q2 = get_m(h, P, k, A)\n",
    "M_q2 = get_M(theta_b, h, P, k, A)\n",
    "q_q2 = heat_transf_rate_A(m_q1, L, M_q1, h)\n",
    "q_q2"
   ]
  },
  {
   "cell_type": "code",
   "execution_count": 43,
   "id": "8c29cda5",
   "metadata": {},
   "outputs": [],
   "source": [
    "# Parâmetros\n",
    "t_sup = 100 + 273   # Temperatura superfície (K)\n",
    "t_amb = 25 + 273    # Temperatura ambiente (K)\n",
    "r = 12e-3           # Raio aleta (m)\n",
    "L = 168e-3          # Comprimento aleta (m)\n",
    "h = 10              # Coeficiente de transferência de calor (W/m2/K)\n",
    "k = 400             # Condutividade térmica do Alumínio-2014 (W/mK)"
   ]
  },
  {
   "cell_type": "code",
   "execution_count": 44,
   "id": "a1eda49e",
   "metadata": {},
   "outputs": [
    {
     "data": {
      "text/plain": [
       "8.969586713315405"
      ]
     },
     "execution_count": 44,
     "metadata": {},
     "output_type": "execute_result"
    }
   ],
   "source": [
    "P = get_P(r)              # Perímetro\n",
    "A = get_A(r)              # Área\n",
    "theta_b = t_sup - t_amb   # Dif temp.\n",
    "\n",
    "m_q2 = get_m(h, P, k, A)\n",
    "M_q2 = get_M(theta_b, h, P, k, A)\n",
    "q_q2 = heat_transf_rate_A(m_q1, L, M_q1, h)\n",
    "q_q2"
   ]
  },
  {
   "cell_type": "code",
   "execution_count": null,
   "id": "b5a51164",
   "metadata": {},
   "outputs": [],
   "source": []
  }
 ],
 "metadata": {
  "kernelspec": {
   "display_name": "Python 3 (ipykernel)",
   "language": "python",
   "name": "python3"
  },
  "language_info": {
   "codemirror_mode": {
    "name": "ipython",
    "version": 3
   },
   "file_extension": ".py",
   "mimetype": "text/x-python",
   "name": "python",
   "nbconvert_exporter": "python",
   "pygments_lexer": "ipython3",
   "version": "3.9.7"
  }
 },
 "nbformat": 4,
 "nbformat_minor": 5
}
